{
 "cells": [
  {
   "cell_type": "code",
   "execution_count": null,
   "metadata": {},
   "outputs": [],
   "source": [
    "import numpy as np\n",
    "import matplotlib.pyplot as plt\n",
    "import pandas as pd\n",
    "import seaborn as sns\n",
    "\n",
    "sns.set_theme()"
   ]
  },
  {
   "cell_type": "code",
   "execution_count": null,
   "metadata": {},
   "outputs": [],
   "source": [
    "# Takes roughly 3 minute to run\n",
    "\n",
    "def sample(N, k):\n",
    "    k = int(k)\n",
    "    iters = k\n",
    "    R = set(np.random.randint(0, N, k))\n",
    "    while len(R) < k:\n",
    "        R.add(np.random.randint(0, N))\n",
    "        iters += 1\n",
    "    return iters\n",
    "\n",
    "N = 10000\n",
    "data = []\n",
    "for _ in range(1000):\n",
    "    k = 2\n",
    "    while k < N:\n",
    "        data.append({\"N\": N, \"k\": k, \"iter\": sample(N, k)})\n",
    "        k *= 1.5\n",
    "\n",
    "data = pd.DataFrame(data)\n"
   ]
  },
  {
   "cell_type": "code",
   "execution_count": null,
   "metadata": {},
   "outputs": [],
   "source": [
    "ks = np.array(sorted(data.k.unique()))\n",
    "expected = N * np.log(N / (N - ks + 1))\n",
    "\n",
    "plt.plot(ks, expected, color=\"red\", label=\"N ln(N / (N - k + 1))\", lw=2)\n",
    "sns.lineplot(x=\"k\", y=\"iter\", data=data, label=\"Simulation (Durchschnitt)\")\n",
    "sns.scatterplot(x=\"k\", y=\"iter\", data=data, label=\"Simulation (Einzelwerte)\")\n",
    "plt.yscale(\"log\", base=2)\n",
    "plt.xscale(\"log\", base=2)\n",
    "plt.axvline(x = N/2, color=\"black\", ls=\"--\", label=\"N/2 = %d\" % (N/2))\n",
    "plt.axvline(x = N, color=\"green\", ls=\"--\", label=\"N = %d\" % N )\n",
    "plt.ylabel(\"Anzahl an Iterationen\")\n",
    "plt.xlabel(\"Stichprobengröße k\")\n",
    "plt.legend()\n",
    "\n",
    "plt.savefig(\"gnm_iterationen.pdf\", bbox_inches=\"tight\")"
   ]
  },
  {
   "cell_type": "code",
   "execution_count": null,
   "metadata": {},
   "outputs": [],
   "source": [
    "N = 1000\n",
    "k = N//2\n",
    "hist_data = pd.DataFrame({\"N\": N, \"k\": k, \"iter\": sample(N, k)} for _ in range(10000))\n",
    "\n",
    "pred = N * np.log(N / (N - k + 1))\n",
    "mean = hist_data.iter.mean()\n",
    "\n",
    "sns.histplot(data=hist_data, x=\"iter\", stat=\"probability\", discrete=True)\n",
    "plt.axvline(x = pred, color=\"red\", ls=\"--\", label=\"N ln(N / (N - k + 1)) = %.1f\" % pred)\n",
    "plt.axvline(x = mean, color=\"green\", ls=\"--\", label=\"Durchschnitt = %.1f\" % mean)\n",
    "plt.legend(loc=\"center right\")\n",
    "plt.ylabel(\"Frequenz\")\n",
    "plt.xlabel(\"Anzahl an Iterationen\")\n",
    "\n",
    "plt.savefig(\"gnm_iterationen_hist.pdf\", bbox_inches=\"tight\")"
   ]
  },
  {
   "cell_type": "code",
   "execution_count": null,
   "metadata": {},
   "outputs": [],
   "source": []
  }
 ],
 "metadata": {
  "kernelspec": {
   "display_name": "Python 3",
   "language": "python",
   "name": "python3"
  },
  "language_info": {
   "codemirror_mode": {
    "name": "ipython",
    "version": 3
   },
   "file_extension": ".py",
   "mimetype": "text/x-python",
   "name": "python",
   "nbconvert_exporter": "python",
   "pygments_lexer": "ipython3",
   "version": "3.8.10"
  },
  "orig_nbformat": 4
 },
 "nbformat": 4,
 "nbformat_minor": 2
}
